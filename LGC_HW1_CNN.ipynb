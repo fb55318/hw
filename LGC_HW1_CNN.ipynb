{
  "nbformat": 4,
  "nbformat_minor": 0,
  "metadata": {
    "colab": {
      "provenance": []
    },
    "kernelspec": {
      "name": "python3",
      "display_name": "Python 3"
    },
    "language_info": {
      "name": "python"
    }
  },
  "cells": [
    {
      "cell_type": "code",
      "execution_count": 1,
      "metadata": {
        "colab": {
          "base_uri": "https://localhost:8080/"
        },
        "id": "vEq9anYmwiW5",
        "outputId": "a324a29c-da8e-417f-8cf5-3ff432f33396"
      },
      "outputs": [
        {
          "output_type": "stream",
          "name": "stdout",
          "text": [
            "Downloading data from https://storage.googleapis.com/tensorflow/tf-keras-datasets/mnist.npz\n",
            "11490434/11490434 [==============================] - 0s 0us/step\n"
          ]
        }
      ],
      "source": [
        "from keras.datasets import mnist\n",
        "from keras.utils import np_utils\n",
        "import numpy as np\n",
        "\n",
        "np.random.seed(10)\n",
        "\n",
        "# Read MNIST data\n",
        "(X_Train, y_Train), (X_Test, y_Test) = mnist.load_data()\n",
        "\n",
        "# Translation of data\n",
        "X_Train4D = X_Train.reshape(X_Train.shape[0], 28, 28, 1).astype('float32')\n",
        "X_Test4D = X_Test.reshape(X_Test.shape[0], 28, 28, 1).astype('float32')"
      ]
    },
    {
      "cell_type": "code",
      "source": [
        "# Standardize feature data\n",
        "X_Train4D_norm = X_Train4D / 255\n",
        "X_Test4D_norm = X_Test4D /255\n",
        "\n",
        "# Label Onehot-encoding\n",
        "y_TrainOneHot = np_utils.to_categorical(y_Train)\n",
        "y_TestOneHot = np_utils.to_categorical(y_Test)\n"
      ],
      "metadata": {
        "id": "mEEFFXZfwufm"
      },
      "execution_count": 2,
      "outputs": []
    },
    {
      "cell_type": "code",
      "source": [
        "from keras.models import Sequential\n",
        "from keras.layers import Dense,Dropout,Flatten,Conv2D,MaxPool2D\n",
        "\n",
        "model = Sequential()\n",
        "# Create CN layer 1\n",
        "model.add(Conv2D(filters=16,\n",
        "                 kernel_size=(5,5),\n",
        "                 padding='same',\n",
        "                 input_shape=(28,28,1),\n",
        "                 activation='relu',\n",
        "                 name='conv2d_1'))\n",
        "# Create Max-Pool 1\n",
        "model.add(MaxPool2D(pool_size=(2,2), name='max_pooling2d_1'))\n",
        "\n",
        "# Create CN layer 2\n",
        "model.add(Conv2D(filters=36,\n",
        "                 kernel_size=(5,5),\n",
        "                 padding='same',\n",
        "                 input_shape=(28,28,1),\n",
        "                 activation='relu',\n",
        "                 name='conv2d_2'))\n",
        "\n",
        "# Create Max-Pool 2\n",
        "model.add(MaxPool2D(pool_size=(2,2), name='max_pooling2d_2'))\n",
        "\n",
        "# Add Dropout layer\n",
        "model.add(Dropout(0.25, name='dropout_1'))"
      ],
      "metadata": {
        "id": "WJfnnPa2wyHQ"
      },
      "execution_count": 3,
      "outputs": []
    },
    {
      "cell_type": "code",
      "source": [
        "model.add(Flatten(name='flatten_1'))"
      ],
      "metadata": {
        "id": "Yi0-AiTew20N"
      },
      "execution_count": 4,
      "outputs": []
    },
    {
      "cell_type": "code",
      "source": [
        "\n",
        "model.add(Dense(128, activation='relu', name='dense_1'))\n",
        "model.add(Dropout(0.5, name='dropout_2'))"
      ],
      "metadata": {
        "id": "L8glq2lfw58X"
      },
      "execution_count": 5,
      "outputs": []
    },
    {
      "cell_type": "code",
      "source": [
        "model.add(Dense(10, activation='softmax', name='dense_2'))"
      ],
      "metadata": {
        "id": "7yG8BTP-w8Rw"
      },
      "execution_count": 6,
      "outputs": []
    },
    {
      "cell_type": "code",
      "source": [
        "model.summary()\n",
        "print(\"\")"
      ],
      "metadata": {
        "colab": {
          "base_uri": "https://localhost:8080/"
        },
        "id": "GirJa4uWw-UR",
        "outputId": "70fa05e0-f5e3-441a-859b-acadb560d56e"
      },
      "execution_count": 7,
      "outputs": [
        {
          "output_type": "stream",
          "name": "stdout",
          "text": [
            "Model: \"sequential\"\n",
            "_________________________________________________________________\n",
            " Layer (type)                Output Shape              Param #   \n",
            "=================================================================\n",
            " conv2d_1 (Conv2D)           (None, 28, 28, 16)        416       \n",
            "                                                                 \n",
            " max_pooling2d_1 (MaxPooling  (None, 14, 14, 16)       0         \n",
            " 2D)                                                             \n",
            "                                                                 \n",
            " conv2d_2 (Conv2D)           (None, 14, 14, 36)        14436     \n",
            "                                                                 \n",
            " max_pooling2d_2 (MaxPooling  (None, 7, 7, 36)         0         \n",
            " 2D)                                                             \n",
            "                                                                 \n",
            " dropout_1 (Dropout)         (None, 7, 7, 36)          0         \n",
            "                                                                 \n",
            " flatten_1 (Flatten)         (None, 1764)              0         \n",
            "                                                                 \n",
            " dense_1 (Dense)             (None, 128)               225920    \n",
            "                                                                 \n",
            " dropout_2 (Dropout)         (None, 128)               0         \n",
            "                                                                 \n",
            " dense_2 (Dense)             (None, 10)                1290      \n",
            "                                                                 \n",
            "=================================================================\n",
            "Total params: 242,062\n",
            "Trainable params: 242,062\n",
            "Non-trainable params: 0\n",
            "_________________________________________________________________\n",
            "\n"
          ]
        }
      ]
    },
    {
      "cell_type": "code",
      "source": [
        "# 定義訓練方式\n",
        "model.compile(loss='categorical_crossentropy', optimizer='adam', metrics=['accuracy'])\n",
        "\n",
        "# 開始訓練\n",
        "train_history = model.fit(x=X_Train4D_norm,\n",
        "                          y=y_TrainOneHot, validation_split=0.2,\n",
        "                          epochs=10, batch_size=300, verbose=1)"
      ],
      "metadata": {
        "colab": {
          "base_uri": "https://localhost:8080/"
        },
        "id": "SxPMCfPOxC_H",
        "outputId": "a63f64b2-558b-4927-b849-88fb716128af"
      },
      "execution_count": 8,
      "outputs": [
        {
          "output_type": "stream",
          "name": "stdout",
          "text": [
            "Epoch 1/10\n",
            "160/160 [==============================] - 99s 607ms/step - loss: 0.5035 - accuracy: 0.8422 - val_loss: 0.0964 - val_accuracy: 0.9708\n",
            "Epoch 2/10\n",
            "160/160 [==============================] - 68s 428ms/step - loss: 0.1386 - accuracy: 0.9584 - val_loss: 0.0636 - val_accuracy: 0.9805\n",
            "Epoch 3/10\n",
            "160/160 [==============================] - 68s 424ms/step - loss: 0.1028 - accuracy: 0.9695 - val_loss: 0.0504 - val_accuracy: 0.9852\n",
            "Epoch 4/10\n",
            "160/160 [==============================] - 68s 422ms/step - loss: 0.0818 - accuracy: 0.9755 - val_loss: 0.0445 - val_accuracy: 0.9868\n",
            "Epoch 5/10\n",
            "160/160 [==============================] - 66s 415ms/step - loss: 0.0693 - accuracy: 0.9788 - val_loss: 0.0401 - val_accuracy: 0.9889\n",
            "Epoch 6/10\n",
            "160/160 [==============================] - 68s 428ms/step - loss: 0.0619 - accuracy: 0.9814 - val_loss: 0.0371 - val_accuracy: 0.9898\n",
            "Epoch 7/10\n",
            "160/160 [==============================] - 68s 423ms/step - loss: 0.0561 - accuracy: 0.9835 - val_loss: 0.0344 - val_accuracy: 0.9902\n",
            "Epoch 8/10\n",
            "160/160 [==============================] - 67s 418ms/step - loss: 0.0486 - accuracy: 0.9846 - val_loss: 0.0332 - val_accuracy: 0.9907\n",
            "Epoch 9/10\n",
            "160/160 [==============================] - 69s 429ms/step - loss: 0.0440 - accuracy: 0.9865 - val_loss: 0.0320 - val_accuracy: 0.9910\n",
            "Epoch 10/10\n",
            "160/160 [==============================] - 68s 425ms/step - loss: 0.0443 - accuracy: 0.9864 - val_loss: 0.0339 - val_accuracy: 0.9906\n"
          ]
        }
      ]
    },
    {
      "cell_type": "code",
      "source": [
        "import matplotlib.pyplot as plt\n",
        "def plot_image(image):\n",
        "    fig = plt.gcf()\n",
        "    fig.set_size_inches(2,2)\n",
        "    plt.imshow(image, cmap='binary')\n",
        "    plt.show()\n",
        "\n",
        "def plot_images_labels_predict(images, labels, prediction, idx, num=10):\n",
        "    fig = plt.gcf()\n",
        "    fig.set_size_inches(12, 14)\n",
        "    if num > 25: num = 25\n",
        "    for i in range(0, num):\n",
        "        ax=plt.subplot(5,5, 1+i)\n",
        "        ax.imshow(images[idx], cmap='binary')\n",
        "        title = \"l=\" + str(labels[idx])\n",
        "        if len(prediction) > 0:\n",
        "            title = \"l={},p={}\".format(str(labels[idx]), str(prediction[idx]))\n",
        "        else:\n",
        "            title = \"l={}\".format(str(labels[idx]))\n",
        "        ax.set_title(title, fontsize=10)\n",
        "        ax.set_xticks([]); ax.set_yticks([])\n",
        "        idx+=1\n",
        "    plt.show()\n",
        "\n",
        "def show_train_history(train_history, train, validation):\n",
        "    plt.plot(train_history.history[train])\n",
        "    plt.plot(train_history.history[validation])\n",
        "    plt.title('Train History')\n",
        "    plt.ylabel(train)\n",
        "    plt.xlabel('Epoch')\n",
        "    plt.legend(['train', 'validation'], loc='upper left')\n",
        "    plt.show()"
      ],
      "metadata": {
        "id": "8zkG3WDQxHh0"
      },
      "execution_count": 9,
      "outputs": []
    },
    {
      "cell_type": "code",
      "source": [
        "show_train_history(train_history, 'accuracy', 'val_accuracy')"
      ],
      "metadata": {
        "colab": {
          "base_uri": "https://localhost:8080/",
          "height": 472
        },
        "id": "5M7Bcgp7xQ67",
        "outputId": "7620e37d-cbdc-4088-a5b9-9b104173f37f"
      },
      "execution_count": 19,
      "outputs": [
        {
          "output_type": "display_data",
          "data": {
            "text/plain": [
              "<Figure size 640x480 with 1 Axes>"
            ],
            "image/png": "[encoded data removed]"
          },
          "metadata": {}
        }
      ]
    },
    {
      "cell_type": "code",
      "source": [
        "show_train_history(train_history, 'loss', 'val_loss')"
      ],
      "metadata": {
        "colab": {
          "base_uri": "https://localhost:8080/",
          "height": 472
        },
        "id": "GoHurc4SxTBp",
        "outputId": "dc020341-84ca-4b74-cec5-0808ebf276d6"
      },
      "execution_count": 11,
      "outputs": [
        {
          "output_type": "display_data",
          "data": {
            "text/plain": [
              "<Figure size 640x480 with 1 Axes>"
            ],
            "image/png": "[encoded data removed]"
          },
          "metadata": {}
        }
      ]
    },
    {
      "cell_type": "code",
      "source": [
        "\n",
        "scores = model.evaluate(X_Test4D_norm, y_TestOneHot)\n",
        "print()\n",
        "print(\"\\t[Info] Accuracy of testing data = {:2.1f}%\".format(scores[1]*100.0))"
      ],
      "metadata": {
        "colab": {
          "base_uri": "https://localhost:8080/"
        },
        "id": "qmf65PGYxVyA",
        "outputId": "d459a0cc-8ba1-4cfb-8238-8fb2e98062a2"
      },
      "execution_count": 12,
      "outputs": [
        {
          "output_type": "stream",
          "name": "stdout",
          "text": [
            "313/313 [==============================] - 5s 17ms/step - loss: 0.0246 - accuracy: 0.9917\n",
            "\n",
            "\t[Info] Accuracy of testing data = 99.2%\n"
          ]
        }
      ]
    }
  ]
}