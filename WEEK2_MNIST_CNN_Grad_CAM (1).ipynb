{
  "nbformat": 4,
  "nbformat_minor": 0,
  "metadata": {
    "colab": {
      "provenance": []
    },
    "kernelspec": {
      "name": "python3",
      "display_name": "Python 3"
    },
    "language_info": {
      "name": "python"
    }
  },
  "cells": [
    {
      "cell_type": "code",
      "execution_count": null,
      "metadata": {
        "colab": {
          "base_uri": "https://localhost:8080/"
        },
        "id": "byzeZ5DNY5Qy",
        "outputId": "2a5d4b2f-5e09-4522-d01d-7420739d11f7"
      },
      "outputs": [
        {
          "output_type": "stream",
          "name": "stdout",
          "text": [
            "Downloading data from https://storage.googleapis.com/tensorflow/tf-keras-datasets/mnist.npz\n",
            "11490434/11490434 [==============================] - 0s 0us/step\n",
            "Model: \"sequential\"\n",
            "_________________________________________________________________\n",
            " Layer (type)                Output Shape              Param #   \n",
            "=================================================================\n",
            " conv2d (Conv2D)             (None, 26, 26, 32)        320       \n",
            "                                                                 \n",
            " max_pooling2d (MaxPooling2  (None, 13, 13, 32)        0         \n",
            " D)                                                              \n",
            "                                                                 \n",
            " global_average_pooling2d (  (None, 32)                0         \n",
            " GlobalAveragePooling2D)                                         \n",
            "                                                                 \n",
            " dense (Dense)               (None, 10)                330       \n",
            "                                                                 \n",
            "=================================================================\n",
            "Total params: 650 (2.54 KB)\n",
            "Trainable params: 650 (2.54 KB)\n",
            "Non-trainable params: 0 (0.00 Byte)\n",
            "_________________________________________________________________\n"
          ]
        }
      ],
      "source": [
        "import random\n",
        "import numpy as np\n",
        "import matplotlib.pyplot as plt\n",
        "import tensorflow as tf\n",
        "import cv2\n",
        "from tensorflow.keras.datasets import mnist\n",
        "from tensorflow.keras.models import Sequential, Model\n",
        "from tensorflow.keras.layers import Conv2D, MaxPooling2D, Flatten, Dense, GlobalAveragePooling2D\n",
        "from tensorflow.keras.preprocessing import image\n",
        "from tensorflow.keras.utils import to_categorical\n",
        "import tensorflow.keras.backend as K\n",
        "\n",
        "# Load MNIST dataset\n",
        "(X_train, y_train), (X_test, y_test) = mnist.load_data()\n",
        "X_train = X_train.reshape(-1, 28, 28, 1).astype('float32') / 255\n",
        "X_test = X_test.reshape(-1, 28, 28, 1).astype('float32') / 255\n",
        "y_train = to_categorical(y_train)\n",
        "y_test = to_categorical(y_test)\n",
        "\n",
        "# Create a simple CNN model\n",
        "model = Sequential()\n",
        "model.add(Conv2D(32, kernel_size=(3, 3), activation='relu', input_shape=(28, 28, 1)))\n",
        "model.add(MaxPooling2D(pool_size=(2, 2)))\n",
        "model.add(GlobalAveragePooling2D())\n",
        "model.add(Dense(10, activation='softmax'))\n",
        "\n",
        "model.compile(loss='categorical_crossentropy', optimizer='adam', metrics=['accuracy'])\n",
        "\n",
        "model.summary()"
      ]
    },
    {
      "cell_type": "code",
      "source": [],
      "metadata": {
        "id": "BgDCHcQkX53W"
      },
      "execution_count": null,
      "outputs": []
    },
    {
      "cell_type": "code",
      "source": [
        "# Train the model (you can adjust epochs and batch size as needed)\n",
        "history = model.fit(X_train, y_train, batch_size=128, epochs=10, validation_data=(X_test, y_test))"
      ],
      "metadata": {
        "colab": {
          "base_uri": "https://localhost:8080/"
        },
        "id": "0mbozztDtSYD",
        "outputId": "c4c86860-dbe0-4f25-c674-7df670574753"
      },
      "execution_count": null,
      "outputs": [
        {
          "output_type": "stream",
          "name": "stdout",
          "text": [
            "Epoch 1/10\n",
            "469/469 [==============================] - 17s 34ms/step - loss: 2.2266 - accuracy: 0.2011 - val_loss: 2.1097 - val_accuracy: 0.2914\n",
            "Epoch 2/10\n",
            "469/469 [==============================] - 14s 29ms/step - loss: 1.9863 - accuracy: 0.3131 - val_loss: 1.8758 - val_accuracy: 0.3407\n",
            "Epoch 3/10\n",
            "469/469 [==============================] - 14s 31ms/step - loss: 1.8105 - accuracy: 0.3563 - val_loss: 1.7441 - val_accuracy: 0.3737\n",
            "Epoch 4/10\n",
            "469/469 [==============================] - 11s 23ms/step - loss: 1.7084 - accuracy: 0.3854 - val_loss: 1.6595 - val_accuracy: 0.4001\n",
            "Epoch 5/10\n",
            "469/469 [==============================] - 11s 23ms/step - loss: 1.6418 - accuracy: 0.4039 - val_loss: 1.6007 - val_accuracy: 0.4331\n",
            "Epoch 6/10\n",
            "469/469 [==============================] - 11s 23ms/step - loss: 1.5933 - accuracy: 0.4228 - val_loss: 1.5557 - val_accuracy: 0.4376\n",
            "Epoch 7/10\n",
            "469/469 [==============================] - 11s 23ms/step - loss: 1.5547 - accuracy: 0.4354 - val_loss: 1.5190 - val_accuracy: 0.4512\n",
            "Epoch 8/10\n",
            "469/469 [==============================] - 11s 24ms/step - loss: 1.5232 - accuracy: 0.4440 - val_loss: 1.4885 - val_accuracy: 0.4586\n",
            "Epoch 9/10\n",
            "469/469 [==============================] - 11s 23ms/step - loss: 1.4975 - accuracy: 0.4528 - val_loss: 1.4643 - val_accuracy: 0.4610\n",
            "Epoch 10/10\n",
            "469/469 [==============================] - 11s 24ms/step - loss: 1.4756 - accuracy: 0.4579 - val_loss: 1.4417 - val_accuracy: 0.4780\n"
          ]
        }
      ]
    },
    {
      "cell_type": "code",
      "source": [
        "# Define Grad-CAM function\n",
        "def grad_cam(input_model, image):\n",
        "    x = np.expand_dims(image, axis=0)\n",
        "    preds = input_model.predict(x)\n",
        "    last_conv_layer = input_model.get_layer('conv2d')  # Get the last convolutional layer\n",
        "    last_conv_layer_model = tf.keras.Model(input_model.inputs, last_conv_layer.output)\n",
        "\n",
        "    classifier_input = tf.keras.Input(shape=last_conv_layer.output.shape[1:])\n",
        "    y = classifier_input\n",
        "    for layer_name in [\"global_average_pooling2d\", \"dense\"]:\n",
        "        y = model.get_layer(layer_name)(y)\n",
        "    classifier_model = tf.keras.Model(classifier_input, y)\n",
        "\n",
        "    with tf.GradientTape() as tape:\n",
        "      inputs = image[np.newaxis, ...]\n",
        "      last_conv_layer_output = last_conv_layer_model(inputs)\n",
        "      print(last_conv_layer_output)\n",
        "      tape.watch(last_conv_layer_output)\n",
        "      preds = classifier_model(last_conv_layer_output)\n",
        "      top_pred_index = tf.argmax(preds[0])\n",
        "      top_class_channel = preds[:, top_pred_index]\n",
        "      print(top_pred_index)\n",
        "\n",
        "    grads = tape.gradient(top_class_channel, last_conv_layer_output)\n",
        "\n",
        "    pooled_grads = tf.reduce_mean(grads, axis=(0, 1, 2))\n",
        "\n",
        "\n",
        "    last_conv_layer_output = last_conv_layer_output.numpy()[0]\n",
        "    pooled_grads = pooled_grads.numpy()\n",
        "    for i in range(pooled_grads.shape[-1]):\n",
        "        last_conv_layer_output[:, :, i] *= pooled_grads[i]\n",
        "\n",
        "    # Average over all the filters to get a single 2D array\n",
        "    gradcam = np.mean(last_conv_layer_output, axis=-1)\n",
        "    # Clip the values (equivalent to applying ReLU)\n",
        "    # and then normalise the values\n",
        "    gradcam = np.clip(gradcam, 0, np.max(gradcam)) / np.max(gradcam)\n",
        "    gradcam = cv2.resize(gradcam, (28, 28))\n",
        "    return gradcam"
      ],
      "metadata": {
        "id": "KGiuARNxfx-C"
      },
      "execution_count": null,
      "outputs": []
    },
    {
      "cell_type": "code",
      "source": [
        "grad_cam = grad_cam(model, X_test[0])"
      ],
      "metadata": {
        "colab": {
          "base_uri": "https://localhost:8080/"
        },
        "id": "nDt6aeQog3cP",
        "outputId": "897f233f-fd2e-47fb-f0fd-fab7698a610b"
      },
      "execution_count": null,
      "outputs": [
        {
          "output_type": "stream",
          "name": "stdout",
          "text": [
            "1/1 [==============================] - 0s 86ms/step\n",
            "tf.Tensor(\n",
            "[[[[0.        0.        0.9911495 ... 0.        0.        0.       ]\n",
            "   [0.        0.        0.9911495 ... 0.        0.        0.       ]\n",
            "   [0.        0.        0.9911495 ... 0.        0.        0.       ]\n",
            "   ...\n",
            "   [0.        0.        0.9911495 ... 0.        0.        0.       ]\n",
            "   [0.        0.        0.9911495 ... 0.        0.        0.       ]\n",
            "   [0.        0.        0.9911495 ... 0.        0.        0.       ]]\n",
            "\n",
            "  [[0.        0.        0.9911495 ... 0.        0.        0.       ]\n",
            "   [0.        0.        0.9911495 ... 0.        0.        0.       ]\n",
            "   [0.        0.        0.9911495 ... 0.        0.        0.       ]\n",
            "   ...\n",
            "   [0.        0.        0.9911495 ... 0.        0.        0.       ]\n",
            "   [0.        0.        0.9911495 ... 0.        0.        0.       ]\n",
            "   [0.        0.        0.9911495 ... 0.        0.        0.       ]]\n",
            "\n",
            "  [[0.        0.        0.9911495 ... 0.        0.        0.       ]\n",
            "   [0.        0.        0.9911495 ... 0.        0.        0.       ]\n",
            "   [0.        0.        0.9911495 ... 0.        0.        0.       ]\n",
            "   ...\n",
            "   [0.        0.        0.9911495 ... 0.        0.        0.       ]\n",
            "   [0.        0.        0.9911495 ... 0.        0.        0.       ]\n",
            "   [0.        0.        0.9911495 ... 0.        0.        0.       ]]\n",
            "\n",
            "  ...\n",
            "\n",
            "  [[0.        0.        0.9911495 ... 0.        0.        0.       ]\n",
            "   [0.        0.        0.9911495 ... 0.        0.        0.       ]\n",
            "   [0.        0.        0.9911495 ... 0.        0.        0.       ]\n",
            "   ...\n",
            "   [0.        0.        0.9911495 ... 0.        0.        0.       ]\n",
            "   [0.        0.        0.9911495 ... 0.        0.        0.       ]\n",
            "   [0.        0.        0.9911495 ... 0.        0.        0.       ]]\n",
            "\n",
            "  [[0.        0.        0.9911495 ... 0.        0.        0.       ]\n",
            "   [0.        0.        0.9911495 ... 0.        0.        0.       ]\n",
            "   [0.        0.        0.9911495 ... 0.        0.        0.       ]\n",
            "   ...\n",
            "   [0.        0.        0.9911495 ... 0.        0.        0.       ]\n",
            "   [0.        0.        0.9911495 ... 0.        0.        0.       ]\n",
            "   [0.        0.        0.9911495 ... 0.        0.        0.       ]]\n",
            "\n",
            "  [[0.        0.        0.9911495 ... 0.        0.        0.       ]\n",
            "   [0.        0.        0.9911495 ... 0.        0.        0.       ]\n",
            "   [0.        0.        0.9911495 ... 0.        0.        0.       ]\n",
            "   ...\n",
            "   [0.        0.        0.9911495 ... 0.        0.        0.       ]\n",
            "   [0.        0.        0.9911495 ... 0.        0.        0.       ]\n",
            "   [0.        0.        0.9911495 ... 0.        0.        0.       ]]]], shape=(1, 26, 26, 32), dtype=float32)\n",
            "tf.Tensor(1, shape=(), dtype=int64)\n"
          ]
        }
      ]
    },
    {
      "cell_type": "code",
      "source": [
        "plt.imshow(X_test[0].squeeze(), cmap='gray')\n",
        "print(X_test[0].shape)\n",
        "plt.imshow(grad_cam, alpha=0.5, cmap='jet')"
      ],
      "metadata": {
        "colab": {
          "base_uri": "https://localhost:8080/",
          "height": 465
        },
        "id": "GGrY6cw_igGQ",
        "outputId": "9095311a-a99d-4717-823f-b86793edbaa7"
      },
      "execution_count": null,
      "outputs": [
        {
          "output_type": "stream",
          "name": "stdout",
          "text": [
            "(28, 28, 1)\n"
          ]
        },
        {
          "output_type": "execute_result",
          "data": {
            "text/plain": [
              "<matplotlib.image.AxesImage at 0x7946e41f1870>"
            ]
          },
          "metadata": {},
          "execution_count": 5
        },
        {
          "output_type": "display_data",
          "data": {
            "text/plain": [
              "<Figure size 640x480 with 1 Axes>"
            ],
            "image/png": "[encoded data removed]"
          },
          "metadata": {}
        }
      ]
    }
  ]
}